{
 "cells": [
  {
   "cell_type": "code",
   "execution_count": 2,
   "metadata": {},
   "outputs": [
    {
     "name": "stdout",
     "output_type": "stream",
     "text": [
      "Traceback (most recent call last):\n",
      "  File \"train_w.py\", line 507, in <module>\n",
      "    main()\n",
      "  File \"train_w.py\", line 333, in main\n",
      "    init_distributed(args, world_size, local_rank, args.group_name)\n",
      "  File \"train_w.py\", line 181, in init_distributed\n",
      "    world_size=world_size, rank=rank, group_name=group_name)\n",
      "  File \"/usr/local/lib/python3.6/dist-packages/torch/distributed/distributed_c10d.py\", line 400, in init_process_group\n",
      "    store, rank, world_size = next(rendezvous(url))\n",
      "  File \"/usr/local/lib/python3.6/dist-packages/torch/distributed/rendezvous.py\", line 95, in _tcp_rendezvous_handler\n",
      "    store = TCPStore(result.hostname, result.port, world_size, start_daemon)\n",
      "RuntimeError: Address already in use\n"
     ]
    }
   ],
   "source": [
    "!python -m multiproc train_w.py -m WaveGlow -o ./output/ -lr 1e-4 --epochs 1001 -bs 5 --segment-length  8000 --weight-decay 0 --grad-clip-thresh 65504.0 --cudnn-enabled --cudnn-benchmark --log-file nvlog.json --amp-run"
   ]
  },
  {
   "cell_type": "code",
   "execution_count": null,
   "metadata": {},
   "outputs": [],
   "source": []
  }
 ],
 "metadata": {
  "kernelspec": {
   "display_name": "Python 3",
   "language": "python",
   "name": "python3"
  },
  "language_info": {
   "codemirror_mode": {
    "name": "ipython",
    "version": 3
   },
   "file_extension": ".py",
   "mimetype": "text/x-python",
   "name": "python",
   "nbconvert_exporter": "python",
   "pygments_lexer": "ipython3",
   "version": "3.6.9"
  }
 },
 "nbformat": 4,
 "nbformat_minor": 4
}
